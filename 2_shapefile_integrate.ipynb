{
 "cells": [
  {
   "cell_type": "code",
   "execution_count": 1,
   "metadata": {
    "collapsed": true
   },
   "outputs": [],
   "source": [
    "import pandas as pd\n",
    "import numpy as np\n",
    "import matplotlib.pyplot as plt\n",
    "import string \n",
    "import geopandas as gpd\n",
    "from shapely.geometry import Point, Polygon\n",
    "import folium\n",
    "import json\n",
    "import vincent\n",
    "import branca.colormap as cm\n",
    "import scipy.spatial as spatial"
   ]
  },
  {
   "cell_type": "code",
   "execution_count": 2,
   "metadata": {
    "collapsed": true
   },
   "outputs": [],
   "source": [
    "London_LSOAs = gpd.read_file('map_data/LSOA/London_LSOA_shape_cleaned.shp')\n",
    "Buildings = gpd.read_file('map_data/OSM/gis.osm_buildings_a_free_1.shp')\n",
    "Landuse = gpd.read_file('map_data/OSM/gis.osm_landuse_a_free_1.shp')"
   ]
  },
  {
   "cell_type": "code",
   "execution_count": 3,
   "metadata": {},
   "outputs": [],
   "source": [
    "Buildings['lon'] = Buildings.geometry.centroid.x\n",
    "Buildings['lat'] = Buildings.geometry.centroid.y\n",
    "\n",
    "London_LSOAs['lon'] = London_LSOAs.geometry.centroid.x\n",
    "London_LSOAs['lat'] = London_LSOAs.geometry.centroid.y"
   ]
  },
  {
   "cell_type": "code",
   "execution_count": 4,
   "metadata": {},
   "outputs": [],
   "source": [
    "#Convert LSOA locations into a KDTree\n",
    "LSOA_tree = spatial.cKDTree(London_LSOAs[['lon', 'lat']].as_matrix())"
   ]
  },
  {
   "cell_type": "code",
   "execution_count": 5,
   "metadata": {},
   "outputs": [],
   "source": [
    "Building_point_strings = Buildings['lat'].map(str) + ',' + Buildings['lon'].map(str)\n",
    "Buildings['point_strings'] = Building_point_strings"
   ]
  },
  {
   "cell_type": "code",
   "execution_count": 6,
   "metadata": {},
   "outputs": [
    {
     "name": "stdout",
     "output_type": "stream",
     "text": [
      "0\n",
      "100000\n",
      "200000\n",
      "300000\n"
     ]
    }
   ],
   "source": [
    "def find_LSOA_from_point(point, approximate):\n",
    "    (lat, lon) = [float(i) for i in point.split(',')]\n",
    "    point = Point((lon, lat))\n",
    "    nearest_n_polygons = London_LSOAs.loc[LSOA_tree.query((lon, lat), 5)[1]]\n",
    "    #Set landuse_id to the closest polygon by default\n",
    "    building_LSOA_id = -999\n",
    "    if approximate == True:\n",
    "        building_LSOA_id = nearest_n_polygons.lsoa11cd.values[0]\n",
    "    #Check if point is in the nearest_n, if yes, replace (reversed rows so closest shape is reviewed last)\n",
    "    for row in nearest_n_polygons.iloc[::-1].iterrows():\n",
    "        if point.within(row[1].geometry):\n",
    "            building_LSOA_id = row[1].lsoa11cd\n",
    "    return building_LSOA_id\n",
    "\n",
    "LSOA_precise = []\n",
    "\n",
    "for index, string in enumerate(Building_point_strings):\n",
    "    if index % 100000 == 0:\n",
    "        print index\n",
    "    LSOA_precise.append(find_LSOA_from_point(string, approximate = True))"
   ]
  },
  {
   "cell_type": "code",
   "execution_count": 7,
   "metadata": {},
   "outputs": [],
   "source": [
    "Building_LSOA_dict = pd.Series(pd.Series(LSOA_precise).values,index=Building_point_strings).to_dict()\n",
    "Buildings['LSOA'] = Buildings.point_strings.map(Building_LSOA_dict)"
   ]
  },
  {
   "cell_type": "code",
   "execution_count": 8,
   "metadata": {},
   "outputs": [],
   "source": [
    "LSOA_name_dict = pd.Series(London_LSOAs.District.values,index=London_LSOAs.lsoa11cd).to_dict()\n",
    "Buildings['District'] = Buildings.LSOA.map(LSOA_name_dict)"
   ]
  },
  {
   "cell_type": "code",
   "execution_count": 9,
   "metadata": {
    "collapsed": true
   },
   "outputs": [],
   "source": [
    "Buildings = Buildings.drop('point_strings', axis = 1)\n",
    "#Save down shape file\n",
    "Buildings.to_file(filename= 'map_data/Buildings_and_LSOA.shp', driver='GeoJSON', encoding='utf-8') "
   ]
  },
  {
   "cell_type": "code",
   "execution_count": 10,
   "metadata": {},
   "outputs": [],
   "source": [
    "Camden = Buildings[Buildings.District == 'Camden']\n",
    "Hackney = Buildings[Buildings.District == 'Hackney']\n",
    "\n",
    "choropleth_json = gpd.GeoDataFrame(Hackney).to_json()\n",
    "Choro_dict = Hackney[['osm_id', 'code']].set_index('osm_id')['code']\n",
    "\n",
    "linear = cm.LinearColormap(['red','black','blue'], \n",
    "                           vmin=Hackney['code'].quantile(.1),\n",
    "                           vmax=Hackney['code'].quantile(.9))\n",
    "\n",
    "linear.caption = 'code'\n",
    "\n",
    "choropleths = folium.GeoJson(\n",
    "        json.loads(choropleth_json),\n",
    "        smooth_factor = 1.0,\n",
    "        style_function=lambda feature: \n",
    "        {\n",
    "        'fillColor': linear(Choro_dict[feature['properties']['osm_id']]),\n",
    "        'color' : 'black',\n",
    "        'weight' : 1,\n",
    "        'dashArray' : '5, 5'\n",
    "        },\n",
    "        )\n",
    "\n",
    "m = folium.Map(location=[51.507, -0.128], tiles='Stamen Toner', zoom_start=12)\n",
    "\n",
    "m.add_child(linear)\n",
    "m.add_child(choropleths)\n",
    "\n",
    "m.save('visualisations/Hackney_Buildings.html')"
   ]
  },
  {
   "cell_type": "code",
   "execution_count": 13,
   "metadata": {},
   "outputs": [],
   "source": []
  },
  {
   "cell_type": "code",
   "execution_count": 14,
   "metadata": {},
   "outputs": [],
   "source": []
  },
  {
   "cell_type": "code",
   "execution_count": null,
   "metadata": {
    "collapsed": true
   },
   "outputs": [],
   "source": []
  }
 ],
 "metadata": {
  "kernelspec": {
   "display_name": "Python 2",
   "language": "python",
   "name": "python2"
  },
  "language_info": {
   "codemirror_mode": {
    "name": "ipython",
    "version": 2
   },
   "file_extension": ".py",
   "mimetype": "text/x-python",
   "name": "python",
   "nbconvert_exporter": "python",
   "pygments_lexer": "ipython2",
   "version": "2.7.14"
  }
 },
 "nbformat": 4,
 "nbformat_minor": 2
}
